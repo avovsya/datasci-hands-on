{
 "cells": [
  {
   "cell_type": "markdown",
   "metadata": {},
   "source": [
    "# Mean, Median, Mode, and introducing NumPy"
   ]
  },
  {
   "cell_type": "markdown",
   "metadata": {},
   "source": [
    "## Mean vs. Median"
   ]
  },
  {
   "cell_type": "markdown",
   "metadata": {},
   "source": [
    "Let's create some fake income data, centered around 27,000 with a normal distribution and standard deviation of 15,000, with 10,000 data points. (We'll discuss those terms more later, if you're not familiar with them.)\n",
    "\n",
    "Then, compute the mean (average) - it should be close to 27,000:"
   ]
  },
  {
   "cell_type": "code",
   "execution_count": 10,
   "metadata": {
    "collapsed": false
   },
   "outputs": [
    {
     "data": {
      "text/plain": [
       "27208.655274983899"
      ]
     },
     "execution_count": 10,
     "metadata": {},
     "output_type": "execute_result"
    }
   ],
   "source": [
    "import numpy as np\n",
    "\n",
    "incomes = np.random.normal(27000, 15000, 10000)\n",
    "# incomes = incomes[incomes > 0]\n",
    "np.mean(incomes)"
   ]
  },
  {
   "cell_type": "markdown",
   "metadata": {},
   "source": [
    "We can segment the income data into 50 buckets, and plot it as a histogram:"
   ]
  },
  {
   "cell_type": "code",
   "execution_count": 14,
   "metadata": {
    "collapsed": false
   },
   "outputs": [
    {
     "data": {
      "image/png": "[encoded data removed]",
      "text/plain": [
       "<matplotlib.figure.Figure at 0x7f45bc8ea668>"
      ]
     },
     "metadata": {},
     "output_type": "display_data"
    }
   ],
   "source": [
    "%matplotlib inline\n",
    "import matplotlib.pyplot as plt\n",
    "plt.hist(incomes, 50)\n",
    "plt.show()"
   ]
  },
  {
   "cell_type": "markdown",
   "metadata": {},
   "source": [
    "Now compute the median - since we have a nice, even distribution it too should be close to 27,000:"
   ]
  },
  {
   "cell_type": "code",
   "execution_count": 16,
   "metadata": {
    "collapsed": false
   },
   "outputs": [
    {
     "data": {
      "text/plain": [
       "27284.065801226359"
      ]
     },
     "execution_count": 16,
     "metadata": {},
     "output_type": "execute_result"
    }
   ],
   "source": [
    "np.median(incomes)"
   ]
  },
  {
   "cell_type": "markdown",
   "metadata": {},
   "source": [
    "Now we'll add Donald Trump into the mix. Darn income inequality!"
   ]
  },
  {
   "cell_type": "code",
   "execution_count": 17,
   "metadata": {
    "collapsed": false
   },
   "outputs": [],
   "source": [
    "incomes = np.append(incomes, [1000000000])"
   ]
  },
  {
   "cell_type": "markdown",
   "metadata": {},
   "source": [
    "The median won't change much, but the mean does:"
   ]
  },
  {
   "cell_type": "code",
   "execution_count": 18,
   "metadata": {
    "collapsed": false
   },
   "outputs": [
    {
     "data": {
      "text/plain": [
       "27286.00997522135"
      ]
     },
     "execution_count": 18,
     "metadata": {},
     "output_type": "execute_result"
    }
   ],
   "source": [
    "np.median(incomes)"
   ]
  },
  {
   "cell_type": "code",
   "execution_count": 19,
   "metadata": {
    "collapsed": false
   },
   "outputs": [
    {
     "data": {
      "text/plain": [
       "127195.93568141577"
      ]
     },
     "execution_count": 19,
     "metadata": {},
     "output_type": "execute_result"
    }
   ],
   "source": [
    "np.mean(incomes)"
   ]
  },
  {
   "cell_type": "markdown",
   "metadata": {},
   "source": [
    "## Mode"
   ]
  },
  {
   "cell_type": "markdown",
   "metadata": {},
   "source": [
    "Next, let's generate some fake age data for 500 people:"
   ]
  },
  {
   "cell_type": "code",
   "execution_count": 22,
   "metadata": {
    "collapsed": false
   },
   "outputs": [
    {
     "data": {
      "text/plain": [
       "array([33, 59, 58, 77, 71, 20, 23, 34, 67, 60, 75, 20, 52, 41, 55, 50, 33,\n",
       "       40, 64, 86, 75, 22, 89, 18, 81, 69, 85, 74, 51, 49, 24, 29, 64, 36,\n",
       "       50, 68, 81, 23, 43, 42, 25, 57, 50, 44, 88, 50, 20, 44, 56, 75, 35,\n",
       "       32, 43, 63, 24, 48, 67, 70, 25, 87, 62, 31, 35, 85, 79, 36, 80, 85,\n",
       "       69, 86, 60, 20, 23, 89, 24, 65, 20, 65, 74, 53, 52, 89, 21, 88, 19,\n",
       "       52, 84, 24, 86, 39, 38, 78, 32, 80, 19, 43, 65, 23, 40, 53, 41, 63,\n",
       "       32, 64, 67, 74, 50, 79, 46, 43, 39, 80, 74, 72, 70, 43, 80, 38, 73,\n",
       "       34, 51, 28, 37, 80, 27, 76, 31, 39, 21, 84, 63, 80, 33, 63, 57, 61,\n",
       "       62, 61, 39, 32, 57, 32, 41, 39, 86, 26, 19, 40, 59, 54, 65, 64, 29,\n",
       "       32, 77, 77, 45, 89, 49, 32, 67, 68, 47, 49, 55, 72, 33, 23, 39, 89,\n",
       "       26, 40, 19, 38, 52, 29, 78, 75, 21, 67, 34, 29, 34, 57, 56, 33, 68,\n",
       "       75, 39, 46, 63, 39, 39, 74, 79, 32, 28, 39, 43, 45, 61, 88, 28, 30,\n",
       "       43, 53, 27, 74, 81, 83, 86, 67, 38, 77, 56, 70, 62, 28, 51, 67, 45,\n",
       "       48, 73, 35, 41, 50, 34, 62, 68, 60, 57, 55, 47, 76, 41, 55, 62, 87,\n",
       "       88, 19, 41, 88, 34, 35, 54, 51, 82, 67, 38, 18, 65, 78, 34, 47, 49,\n",
       "       62, 64, 50, 63, 59, 51, 74, 33, 50, 39, 64, 36, 88, 29, 45, 55, 70,\n",
       "       44, 28, 71, 21, 65, 35, 53, 56, 56, 65, 44, 72, 23, 84, 81, 36, 64,\n",
       "       18, 21, 35, 40, 72, 20, 18, 23, 82, 19, 31, 75, 40, 65, 38, 55, 87,\n",
       "       25, 73, 45, 21, 74, 25, 86, 75, 29, 30, 78, 71, 54, 49, 25, 29, 54,\n",
       "       60, 33, 73, 66, 48, 74, 61, 33, 88, 85, 20, 34, 35, 20, 78, 19, 69,\n",
       "       30, 84, 58, 19, 34, 44, 55, 52, 64, 28, 32, 83, 84, 54, 27, 58, 52,\n",
       "       26, 63, 38, 80, 85, 40, 88, 50, 67, 59, 79, 26, 45, 69, 52, 79, 35,\n",
       "       86, 62, 40, 39, 33, 38, 28, 47, 19, 87, 83, 35, 34, 80, 19, 78, 61,\n",
       "       68, 70, 65, 41, 73, 82, 39, 47, 64, 57, 70, 59, 63, 47, 35, 82, 45,\n",
       "       66, 37, 22, 28, 60, 34, 79, 33, 48, 57, 83, 79, 49, 55, 53, 48, 67,\n",
       "       83, 52, 25, 83, 88, 18, 32, 41, 39, 46, 73, 70, 39, 26, 26, 26, 39,\n",
       "       88, 37, 41, 31, 63, 29, 78, 71, 20, 37, 56, 41, 36, 65, 50, 71, 49,\n",
       "       60, 31, 37, 83, 87, 38, 82, 77, 83, 57, 35, 72, 79, 84, 48, 57, 88,\n",
       "       62, 18, 28, 51, 39, 84, 61, 60, 61, 48, 64, 73, 55, 27, 69, 87, 20,\n",
       "       89, 71, 20, 54, 60, 35, 82])"
      ]
     },
     "execution_count": 22,
     "metadata": {},
     "output_type": "execute_result"
    }
   ],
   "source": [
    "ages = np.random.randint(18, high=90, size=500)\n",
    "ages"
   ]
  },
  {
   "cell_type": "code",
   "execution_count": 23,
   "metadata": {
    "collapsed": false
   },
   "outputs": [
    {
     "data": {
      "text/plain": [
       "ModeResult(mode=array([39]), count=array([17]))"
      ]
     },
     "execution_count": 23,
     "metadata": {},
     "output_type": "execute_result"
    }
   ],
   "source": [
    "from scipy import stats\n",
    "stats.mode(ages)"
   ]
  },
  {
   "cell_type": "code",
   "execution_count": null,
   "metadata": {
    "collapsed": false
   },
   "outputs": [],
   "source": []
  }
 ],
 "metadata": {
  "kernelspec": {
   "display_name": "Python 3",
   "language": "python",
   "name": "python3"
  },
  "language_info": {
   "codemirror_mode": {
    "name": "ipython",
    "version": 3
   },
   "file_extension": ".py",
   "mimetype": "text/x-python",
   "name": "python",
   "nbconvert_exporter": "python",
   "pygments_lexer": "ipython3",
   "version": "3.4.3"
  }
 },
 "nbformat": 4,
 "nbformat_minor": 0
}
